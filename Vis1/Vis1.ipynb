{
 "cells": [
  {
   "cell_type": "code",
   "execution_count": 5,
   "metadata": {},
   "outputs": [
    {
     "data": {
      "text/html": [
       "<div>\n",
       "<style scoped>\n",
       "    .dataframe tbody tr th:only-of-type {\n",
       "        vertical-align: middle;\n",
       "    }\n",
       "\n",
       "    .dataframe tbody tr th {\n",
       "        vertical-align: top;\n",
       "    }\n",
       "\n",
       "    .dataframe thead th {\n",
       "        text-align: right;\n",
       "    }\n",
       "</style>\n",
       "<table border=\"1\" class=\"dataframe\">\n",
       "  <thead>\n",
       "    <tr style=\"text-align: right;\">\n",
       "      <th></th>\n",
       "      <th>sexe</th>\n",
       "      <th>preusuel</th>\n",
       "      <th>annais</th>\n",
       "      <th>dpt</th>\n",
       "      <th>nombre</th>\n",
       "    </tr>\n",
       "  </thead>\n",
       "  <tbody>\n",
       "    <tr>\n",
       "      <th>0</th>\n",
       "      <td>1</td>\n",
       "      <td>_PRENOMS_RARES</td>\n",
       "      <td>1900</td>\n",
       "      <td>02</td>\n",
       "      <td>7</td>\n",
       "    </tr>\n",
       "    <tr>\n",
       "      <th>1</th>\n",
       "      <td>1</td>\n",
       "      <td>_PRENOMS_RARES</td>\n",
       "      <td>1900</td>\n",
       "      <td>04</td>\n",
       "      <td>9</td>\n",
       "    </tr>\n",
       "    <tr>\n",
       "      <th>2</th>\n",
       "      <td>1</td>\n",
       "      <td>_PRENOMS_RARES</td>\n",
       "      <td>1900</td>\n",
       "      <td>05</td>\n",
       "      <td>8</td>\n",
       "    </tr>\n",
       "    <tr>\n",
       "      <th>3</th>\n",
       "      <td>1</td>\n",
       "      <td>_PRENOMS_RARES</td>\n",
       "      <td>1900</td>\n",
       "      <td>06</td>\n",
       "      <td>23</td>\n",
       "    </tr>\n",
       "    <tr>\n",
       "      <th>4</th>\n",
       "      <td>1</td>\n",
       "      <td>_PRENOMS_RARES</td>\n",
       "      <td>1900</td>\n",
       "      <td>07</td>\n",
       "      <td>9</td>\n",
       "    </tr>\n",
       "  </tbody>\n",
       "</table>\n",
       "</div>"
      ],
      "text/plain": [
       "   sexe        preusuel annais dpt  nombre\n",
       "0     1  _PRENOMS_RARES   1900  02       7\n",
       "1     1  _PRENOMS_RARES   1900  04       9\n",
       "2     1  _PRENOMS_RARES   1900  05       8\n",
       "3     1  _PRENOMS_RARES   1900  06      23\n",
       "4     1  _PRENOMS_RARES   1900  07       9"
      ]
     },
     "execution_count": 5,
     "metadata": {},
     "output_type": "execute_result"
    }
   ],
   "source": [
    "import altair as alt\n",
    "alt.data_transformers.enable('json')\n",
    "import pandas as pd\n",
    "babyNames = pd.read_csv(\"dpt2020.csv\", sep=\";\")"
   ]
  },
  {
   "cell_type": "code",
   "execution_count": 6,
   "metadata": {},
   "outputs": [
    {
     "name": "stderr",
     "output_type": "stream",
     "text": [
      "C:\\Users\\flyim\\AppData\\Local\\Temp\\ipykernel_39416\\3027840138.py:7: FutureWarning: Calling float on a single element Series is deprecated and will raise a TypeError in the future. Use float(ser.iloc[0]) instead\n",
      "  totalYear = float(yearSum.nombre[yearSum.annais == year])\n"
     ]
    }
   ],
   "source": [
    "noDtpNames = babyNames.groupby(['sexe', 'preusuel', 'annais'], as_index=False).agg({'nombre': 'sum'})\n",
    "\n",
    "yearSum = noDtpNames.groupby(['annais'], as_index=False).agg({'nombre': 'sum'})\n",
    "\n",
    "def pourcentageCalculation(onedata) :\n",
    "    year = onedata['annais']\n",
    "    totalYear = float(yearSum.nombre[yearSum.annais == year])\n",
    "    return 100 * float(onedata['nombre']) / totalYear\n",
    "\n",
    "noDtpNames.loc[:,['pourcentage']] = noDtpNames.apply(lambda onedata: pourcentageCalculation(onedata), axis=1)"
   ]
  },
  {
   "cell_type": "code",
   "execution_count": 7,
   "metadata": {},
   "outputs": [],
   "source": [
    "point = alt.selection_point()"
   ]
  },
  {
   "cell_type": "code",
   "execution_count": 11,
   "metadata": {},
   "outputs": [
    {
     "data": {
      "text/html": [
       "\n",
       "<style>\n",
       "  #altair-viz-bcb0de1779a34d21b823592bf31b2269.vega-embed {\n",
       "    width: 100%;\n",
       "    display: flex;\n",
       "  }\n",
       "\n",
       "  #altair-viz-bcb0de1779a34d21b823592bf31b2269.vega-embed details,\n",
       "  #altair-viz-bcb0de1779a34d21b823592bf31b2269.vega-embed details summary {\n",
       "    position: relative;\n",
       "  }\n",
       "</style>\n",
       "<div id=\"altair-viz-bcb0de1779a34d21b823592bf31b2269\"></div>\n",
       "<script type=\"text/javascript\">\n",
       "  var VEGA_DEBUG = (typeof VEGA_DEBUG == \"undefined\") ? {} : VEGA_DEBUG;\n",
       "  (function(spec, embedOpt){\n",
       "    let outputDiv = document.currentScript.previousElementSibling;\n",
       "    if (outputDiv.id !== \"altair-viz-bcb0de1779a34d21b823592bf31b2269\") {\n",
       "      outputDiv = document.getElementById(\"altair-viz-bcb0de1779a34d21b823592bf31b2269\");\n",
       "    }\n",
       "    const paths = {\n",
       "      \"vega\": \"https://cdn.jsdelivr.net/npm/vega@5?noext\",\n",
       "      \"vega-lib\": \"https://cdn.jsdelivr.net/npm/vega-lib?noext\",\n",
       "      \"vega-lite\": \"https://cdn.jsdelivr.net/npm/vega-lite@5.16.3?noext\",\n",
       "      \"vega-embed\": \"https://cdn.jsdelivr.net/npm/vega-embed@6?noext\",\n",
       "    };\n",
       "\n",
       "    function maybeLoadScript(lib, version) {\n",
       "      var key = `${lib.replace(\"-\", \"\")}_version`;\n",
       "      return (VEGA_DEBUG[key] == version) ?\n",
       "        Promise.resolve(paths[lib]) :\n",
       "        new Promise(function(resolve, reject) {\n",
       "          var s = document.createElement('script');\n",
       "          document.getElementsByTagName(\"head\")[0].appendChild(s);\n",
       "          s.async = true;\n",
       "          s.onload = () => {\n",
       "            VEGA_DEBUG[key] = version;\n",
       "            return resolve(paths[lib]);\n",
       "          };\n",
       "          s.onerror = () => reject(`Error loading script: ${paths[lib]}`);\n",
       "          s.src = paths[lib];\n",
       "        });\n",
       "    }\n",
       "\n",
       "    function showError(err) {\n",
       "      outputDiv.innerHTML = `<div class=\"error\" style=\"color:red;\">${err}</div>`;\n",
       "      throw err;\n",
       "    }\n",
       "\n",
       "    function displayChart(vegaEmbed) {\n",
       "      vegaEmbed(outputDiv, spec, embedOpt)\n",
       "        .catch(err => showError(`Javascript Error: ${err.message}<br>This usually means there's a typo in your chart specification. See the javascript console for the full traceback.`));\n",
       "    }\n",
       "\n",
       "    if(typeof define === \"function\" && define.amd) {\n",
       "      requirejs.config({paths});\n",
       "      require([\"vega-embed\"], displayChart, err => showError(`Error loading script: ${err.message}`));\n",
       "    } else {\n",
       "      maybeLoadScript(\"vega\", \"5\")\n",
       "        .then(() => maybeLoadScript(\"vega-lite\", \"5.16.3\"))\n",
       "        .then(() => maybeLoadScript(\"vega-embed\", \"6\"))\n",
       "        .catch(showError)\n",
       "        .then(() => displayChart(vegaEmbed));\n",
       "    }\n",
       "  })({\"config\": {\"view\": {\"continuousWidth\": 300, \"continuousHeight\": 300}}, \"data\": {\"url\": \"altair-data-baded3eb48d985f300b410bc9b2c243a.json\", \"format\": {\"type\": \"json\"}}, \"mark\": {\"type\": \"line\"}, \"encoding\": {\"color\": {\"condition\": {\"param\": \"param_3\", \"field\": \"preusuel\", \"legend\": null, \"type\": \"nominal\"}, \"value\": \"lightgray\"}, \"detail\": {\"field\": \"sexe\", \"type\": \"nominal\"}, \"opacity\": {\"condition\": {\"param\": \"param_3\", \"value\": 1}, \"value\": 0.05}, \"tooltip\": [{\"field\": \"preusuel\", \"title\": \"Pr\\u00e9nom\", \"type\": \"nominal\"}, {\"field\": \"genre\", \"title\": \"Sexe\", \"type\": \"nominal\"}, {\"field\": \"annais\", \"title\": \"Ann\\u00e9e\", \"type\": \"quantitative\"}, {\"field\": \"nombre\", \"title\": \"Nombre\", \"type\": \"quantitative\"}], \"x\": {\"field\": \"annais\", \"title\": \"Ann\\u00e9e\", \"type\": \"quantitative\"}, \"y\": {\"field\": \"pourcentage\", \"title\": \"Popularity pourcentage (%)\", \"type\": \"quantitative\"}}, \"height\": 500, \"params\": [{\"name\": \"param_3\", \"select\": {\"type\": \"point\"}}], \"transform\": [{\"calculate\": \"datum.sexe == 1 ? 'homme' : 'femme'\", \"as\": \"genre\"}], \"width\": 1000, \"$schema\": \"https://vega.github.io/schema/vega-lite/v5.16.3.json\"}, {\"mode\": \"vega-lite\"});\n",
       "</script>"
      ],
      "text/plain": [
       "alt.Chart(...)"
      ]
     },
     "execution_count": 11,
     "metadata": {},
     "output_type": "execute_result"
    }
   ],
   "source": [
    "vis1 = alt.Chart(noDtpNames).transform_calculate(\n",
    "    genre=\"datum.sexe == 1 ? 'homme' : 'femme'\"\n",
    ").mark_line().encode(\n",
    "    x=alt.X('annais:Q', title='Année'),\n",
    "    y=alt.Y('pourcentage:Q', title='Popularity pourcentage (%)'),\n",
    "    color=alt.condition(point, alt.Color('preusuel:N').legend(None), alt.value('lightgray')),\n",
    "    opacity=alt.condition(point, alt.value(1), alt.value(0.05)),\n",
    "    tooltip=[\n",
    "        alt.Tooltip('preusuel:N', title='Prénom'),\n",
    "        alt.Tooltip('genre:N', title='Sexe'),\n",
    "        alt.Tooltip('annais:Q', title='Année'),\n",
    "        alt.Tooltip('nombre:Q', title='Nombre')\n",
    "    ],\n",
    "    detail='sexe:N',\n",
    ").properties(\n",
    "    width  = 1000,\n",
    "    height = 500\n",
    ").add_params(\n",
    "    point\n",
    ")\n",
    "vis1\n"
   ]
  }
 ],
 "metadata": {
  "kernelspec": {
   "display_name": "Python 3",
   "language": "python",
   "name": "python3"
  },
  "language_info": {
   "codemirror_mode": {
    "name": "ipython",
    "version": 3
   },
   "file_extension": ".py",
   "mimetype": "text/x-python",
   "name": "python",
   "nbconvert_exporter": "python",
   "pygments_lexer": "ipython3",
   "version": "3.11.0"
  }
 },
 "nbformat": 4,
 "nbformat_minor": 2
}
